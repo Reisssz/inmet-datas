{
 "cells": [
  {
   "cell_type": "code",
   "execution_count": null,
   "id": "ac5a0721",
   "metadata": {},
   "outputs": [],
   "source": [
    "import pandas as pd\n",
    "import numpy as np"
   ]
  },
  {
   "cell_type": "code",
   "execution_count": null,
   "id": "604f7ff0",
   "metadata": {},
   "outputs": [],
   "source": [
    "meta_data = pd.read_csv(\"arquivos_extraidos/2002/2002/INMET_CO_GO_A002_GOIANIA_01-01-2002_A_31-12-2002.CSV\", header=None,\n",
    "        sep=\":;\",\n",
    "        encoding=\"latin-1\",\n",
    "        nrows=8,\n",
    "        decimal=\",\"\n",
    ")\n",
    "meta_data = pd.DataFrame({\n",
    "    0: [\"REGIÃO\", \"UF\", \"ESTAÇÃO\", \"CODIGO (WMO)\", \"LATITUDE\", \"LONGITUDE\", \"ALTITUDE\", \"DATA DE FUNDAÇÃO (YYYY-MM-DD)\"],\n",
    "    1: [\"CO\", \"GO\", \"GOIANIA\", \"A002\", -16.64277777, -49.21999999, 770, \"2001-05-29\"]\n",
    "})\n",
    "\n",
    "meta_data = meta_data.set_index(0).T\n",
    "\n",
    "\n"
   ]
  },
  {
   "cell_type": "code",
   "execution_count": null,
   "id": "5855356a",
   "metadata": {},
   "outputs": [],
   "source": [
    "dicionario_abreviacoes = {\n",
    "    \"DATA\": \"Data da medição\",\n",
    "    \"HORA\": \"Hora da medição (UTC)\",\n",
    "    \"PRECIP_TOTAL\": \"Precipitação total horária (mm)\",\n",
    "    \"PRESSAO_ATM\": \"Pressão atmosférica ao nível da estação (mB)\",\n",
    "    \"PRESSAO_MAX\": \"Pressão atmosférica máxima na hora anterior (mB)\",\n",
    "    \"PRESSAO_MIN\": \"Pressão atmosférica mínima na hora anterior (mB)\",\n",
    "    \"RADIACAO\": \"Radiação global (KJ/m²)\",\n",
    "    \"TEMP_AR\": \"Temperatura do ar - bulbo seco (°C)\",\n",
    "    \"TEMP_ORVALHO\": \"Temperatura do ponto de orvalho (°C)\",\n",
    "    \"TEMP_MAX\": \"Temperatura máxima na hora anterior (°C)\",\n",
    "    \"TEMP_MIN\": \"Temperatura mínima na hora anterior (°C)\",\n",
    "    \"TEMP_ORV_MAX\": \"Temperatura máxima do orvalho na hora anterior (°C)\",\n",
    "    \"TEMP_ORV_MIN\": \"Temperatura mínima do orvalho na hora anterior (°C)\",\n",
    "    \"UMID_MAX\": \"Umidade relativa máxima na hora anterior (%)\",\n",
    "    \"UMID_MIN\": \"Umidade relativa mínima na hora anterior (%)\",\n",
    "    \"UMID_AR\": \"Umidade relativa do ar (horária) (%)\",\n",
    "    \"VENTO_DIR\": \"Direção do vento (gr) (°)\",\n",
    "    \"VENTO_RAJADA\": \"Rajada máxima do vento (m/s)\",\n",
    "    \"VENTO_VEL\": \"Velocidade horária do vento (m/s)\",\n",
    "    \"UNNAMED\": \"Coluna não nomeada ou irrelevante\"\n",
    "}"
   ]
  },
  {
   "cell_type": "code",
   "execution_count": null,
   "id": "d6ffa979",
   "metadata": {},
   "outputs": [],
   "source": [
    "main_data = pd.read_csv(\n",
    "    \"arquivos_extraidos/2004/2004/INMET_CO_MT_A907_RONDONOPOLIS_01-01-2004_A_31-12-2004.CSV\", \n",
    "    sep=\";\",\n",
    "    encoding=\"latin-1\",\n",
    "    decimal=\",\",\n",
    "    skiprows=8\n",
    ")\n",
    "\n",
    "names_columns = [\n",
    "    \"DATA\", \"HORA\", \"PRECIP_TOTAL\", \"PRESSAO_ATM\", \n",
    "    \"PRESSAO_MAX\", \"PRESSAO_MIN\", \"RADIACAO\", \n",
    "    \"TEMP_AR\", \"TEMP_ORVALHO\", \"TEMP_MAX\", \n",
    "    \"TEMP_MIN\", \"TEMP_ORV_MAX\", \"TEMP_ORV_MIN\", \n",
    "    \"UMID_MAX\", \"UMID_MIN\", \"UMID_AR\", \n",
    "    \"VENTO_DIR\", \"VENTO_RAJADA\", \"VENTO_VEL\", \n",
    "    \"UNNAMED\"\n",
    "]\n",
    "\n",
    "main_data.columns = names_columns\n",
    "main_data.replace(-9999, np.nan, inplace=True)\n",
    "main_data[\"DATA_HORA\"] = pd.to_datetime(main_data[\"DATA\"] + \" \" + main_data[\"HORA\"], format=\"%Y-%m-%d %H:%M\")\n",
    "main_data = main_data.drop(columns=[\"DATA\", \"HORA\"])\n",
    "main_data = main_data.drop(columns=[\"UNNAMED\"])\n",
    "main_data = main_data[[\"DATA_HORA\"] + [col for col in main_data.columns if col != \"DATA_HORA\"]]\n",
    "\n",
    "for column in meta_data.columns:\n",
    "    main_data[column] = meta_data[column].iloc[0]"
   ]
  },
  {
   "cell_type": "code",
   "execution_count": null,
   "id": "5c74eaf3",
   "metadata": {},
   "outputs": [],
   "source": [
    "def load_weather_data(file_path, meta_data):\n",
    "        main_data = pd.read_csv(\n",
    "        file_path,\n",
    "        sep=\";\",\n",
    "        encoding=\"latin-1\",\n",
    "        decimal=\",\",\n",
    "        skiprows=8\n",
    "    )\n",
    "    "
   ]
  },
  {
   "cell_type": "code",
   "execution_count": null,
   "id": "cb3db304",
   "metadata": {},
   "outputs": [],
   "source": [
    "import logging\n",
    "import os\n",
    "import pandas as pd\n",
    "from collect_link import collect_links\n",
    "from download_files import download_files\n",
    "from extract_files import unzip_files\n",
    "from treatment_files import load_metadata, load_weather_data, result\n",
    "\n",
    "try:\n",
    "    pasta_tratada = \"arquivos_tratados\"\n",
    "    os.makedirs(pasta_tratada, exist_ok=True)\n",
    "\n",
    "    \n",
    "    links = collect_links()\n",
    "    if not links:\n",
    "        logging.warning(\"Nenhum link encontrado.\")\n",
    "\n",
    "   \n",
    "    download_files(links)\n",
    "\n",
    "    unzip_files()\n",
    "\n",
    "    meta_data = load_metadata()\n",
    "    if meta_data is None:\n",
    "        logging.error(\"Erro ao carregar metadados.\")\n",
    "        \n",
    "    file_path = (r\"arquivos_extraidos/2002/2002/INMET_CO_GO_A002_GOIANIA_01-01-2002_A_31-12-2002.CSV\")    \n",
    "    load_weather_data(file_path,meta_data)\n",
    "    \n",
    "    \n",
    "    result_df = result(meta_data)\n",
    "    logging.info(f\"Resultado final: {result_df}\")\n",
    "\n",
    "except Exception as e:\n",
    "    logging.error(f\"Erro no processamento: {e}\")\n"
   ]
  },
  {
   "cell_type": "code",
   "execution_count": null,
   "id": "ee03ddd1",
   "metadata": {},
   "outputs": [],
   "source": [
    "print(meta_data)"
   ]
  },
  {
   "cell_type": "code",
   "execution_count": null,
   "id": "add194a4",
   "metadata": {},
   "outputs": [],
   "source": [
    "result = pd.concat([meta_data, main_data], axis=0, ignore_index=True,)"
   ]
  },
  {
   "cell_type": "markdown",
   "id": "5a618fed",
   "metadata": {},
   "source": []
  },
  {
   "cell_type": "code",
   "execution_count": null,
   "id": "6d6a6d58",
   "metadata": {},
   "outputs": [],
   "source": [
    "result"
   ]
  }
 ],
 "metadata": {
  "kernelspec": {
   "display_name": "venv",
   "language": "python",
   "name": "python3"
  },
  "language_info": {
   "codemirror_mode": {
    "name": "ipython",
    "version": 3
   },
   "file_extension": ".py",
   "mimetype": "text/x-python",
   "name": "python",
   "nbconvert_exporter": "python",
   "pygments_lexer": "ipython3",
   "version": "3.13.1"
  }
 },
 "nbformat": 4,
 "nbformat_minor": 5
}

{
 "cells": [
  {
   "cell_type": "code",
   "execution_count": 31,
   "metadata": {},
   "outputs": [],
   "source": [
    "import pandas as pd\n",
    "import os\n",
    "import logging\n",
    "from treatment_files import process_and_convert_to_excel"
   ]
  },
  {
   "cell_type": "code",
   "execution_count": 30,
   "metadata": {},
   "outputs": [],
   "source": [
    "def verificar_arquivo_csv():\n",
    "    base_dir = \"arquivos_extraidos\"\n",
    "    \n",
    "    # Vamos tentar abrir o primeiro CSV encontrado\n",
    "    for root, dirs, files in os.walk(base_dir):\n",
    "        for file in files:\n",
    "            if file.endswith(\".csv\"):\n",
    "                csv_path = os.path.join(root, file)\n",
    "                logging.info(f\"Tentando abrir o arquivo CSV: {csv_path}\")\n",
    "                try:\n",
    "                    df = pd.read_csv(csv_path, encoding='latin1')\n",
    "                    logging.info(f\"Arquivo {file} aberto com sucesso!\")\n",
    "                    logging.info(f\"Primeiras linhas: {df.head()}\")\n",
    "                except Exception as e:\n",
    "                    logging.error(f\"Erro ao abrir o arquivo {csv_path}: {e}\")\n",
    "\n",
    "verificar_arquivo_csv()"
   ]
  },
  {
   "cell_type": "code",
   "execution_count": 32,
   "metadata": {},
   "outputs": [],
   "source": [
    "import os\n",
    "import pandas as pd\n",
    "import logging\n",
    "\n",
    "def process_and_convert_to_excel(extract_dir):\n",
    "    \"\"\"\n",
    "    Processa os arquivos CSV encontrados na pasta extraída, remove caracteres especiais (exceto na coluna de data),\n",
    "    e os converte para arquivos Excel.\n",
    "    \"\"\"\n",
    "    # Verifica se o diretório existe\n",
    "    if not os.path.exists(extract_dir):\n",
    "        logging.error(f\"A pasta {extract_dir} não existe.\")\n",
    "        return\n",
    "\n",
    "    # Itera pelas subpastas e arquivos\n",
    "    for root, dirs, files in os.walk(extract_dir):\n",
    "        for file in files:\n",
    "            if file.endswith(\".csv\"):  # Verifica se o arquivo é CSV\n",
    "                csv_file_path = os.path.join(root, file)\n",
    "                logging.info(f\"Processando o arquivo CSV: {csv_file_path}\")\n",
    "                \n",
    "                try:\n",
    "                    # Lê o arquivo CSV\n",
    "                    df = pd.read_csv(csv_file_path, encoding='latin1')  # Altere o encoding se necessário\n",
    "                    logging.info(f\"Primeiras linhas do arquivo {file}:\")\n",
    "                    logging.info(df.head())\n",
    "                    \n",
    "                    # Remove caracteres especiais em todas as colunas, exceto na coluna de data\n",
    "                    for column in df.columns:\n",
    "                        if column != \"data\":  # Supondo que a coluna 'data' seja a coluna de data\n",
    "                            df[column] = df[column].astype(str).str.replace(r'[^\\w\\s]', '', regex=True)\n",
    "                    \n",
    "                    # Cria o caminho para salvar o arquivo Excel\n",
    "                    excel_file_path = os.path.splitext(csv_file_path)[0] + \".xlsx\"\n",
    "                    \n",
    "                    # Converte para Excel e salva\n",
    "                    df.to_excel(excel_file_path, index=False)\n",
    "                    logging.info(f\"Arquivo processado e salvo em Excel: {excel_file_path}\")\n",
    "                \n",
    "                except Exception as e:\n",
    "                    logging.error(f\"Erro ao processar o arquivo {csv_file_path}: {e}\")\n"
   ]
  },
  {
   "cell_type": "code",
   "execution_count": null,
   "metadata": {},
   "outputs": [],
   "source": []
  }
 ],
 "metadata": {
  "kernelspec": {
   "display_name": "venv",
   "language": "python",
   "name": "python3"
  },
  "language_info": {
   "codemirror_mode": {
    "name": "ipython",
    "version": 3
   },
   "file_extension": ".py",
   "mimetype": "text/x-python",
   "name": "python",
   "nbconvert_exporter": "python",
   "pygments_lexer": "ipython3",
   "version": "3.13.1"
  }
 },
 "nbformat": 4,
 "nbformat_minor": 2
}
